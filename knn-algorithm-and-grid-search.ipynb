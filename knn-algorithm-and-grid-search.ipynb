{
 "cells": [
  {
   "cell_type": "code",
   "execution_count": 1,
   "metadata": {
    "_cell_guid": "b1076dfc-b9ad-4769-8c92-a6c4dae69d19",
    "_uuid": "8f2839f25d086af736a60e9eeb907d3b93b6e0e5"
   },
   "outputs": [
    {
     "name": "stdout",
     "output_type": "stream",
     "text": [
      "['t10k-images-idx3-ubyte', 'train-images-idx3-ubyte', 'fashion-mnist_train.csv', 'train-labels-idx1-ubyte', 'fashion-mnist_test.csv', 't10k-labels-idx1-ubyte']\n"
     ]
    }
   ],
   "source": [
    "# This Python 3 environment comes with many helpful analytics libraries installed\n",
    "# It is defined by the kaggle/python docker image: https://github.com/kaggle/docker-python\n",
    "# For example, here's several helpful packages to load in \n",
    "\n",
    "import numpy as np # linear algebra\n",
    "import pandas as pd # data processing, CSV file I/O (e.g. pd.read_csv)\n",
    "\n",
    "# Input data files are available in the \"../input/\" directory.\n",
    "# For example, running this (by clicking run or pressing Shift+Enter) will list the files in the input directory\n",
    "\n",
    "import os\n",
    "print(os.listdir(\"../input\"))\n",
    "\n",
    "# Any results you write to the current directory are saved as output."
   ]
  },
  {
   "cell_type": "code",
   "execution_count": 2,
   "metadata": {
    "_cell_guid": "79c7e3d0-c299-4dcb-8224-4455121ee9b0",
    "_uuid": "d629ff2d2480ee46fbb7e2d37f6b5fab8052498a"
   },
   "outputs": [
    {
     "name": "stdout",
     "output_type": "stream",
     "text": [
      "(60000, 785)\n"
     ]
    }
   ],
   "source": [
    "train_path = \"../input/fashion-mnist_train.csv\"\n",
    "train_df = pd.read_csv(train_path)\n",
    "print(train_df.shape)"
   ]
  },
  {
   "cell_type": "code",
   "execution_count": 3,
   "metadata": {},
   "outputs": [
    {
     "name": "stdout",
     "output_type": "stream",
     "text": [
      "(60000, 784)\n"
     ]
    }
   ],
   "source": [
    "target = train_df[\"label\"].values.reshape(train_df.shape[0], 1)\n",
    "train_df.drop(\"label\", axis=1, inplace=True)\n",
    "train = train_df.values\n",
    "print(train.shape)"
   ]
  },
  {
   "cell_type": "code",
   "execution_count": 4,
   "metadata": {},
   "outputs": [],
   "source": [
    "train = train.astype(\"float32\") / 255"
   ]
  },
  {
   "cell_type": "code",
   "execution_count": 5,
   "metadata": {},
   "outputs": [
    {
     "name": "stdout",
     "output_type": "stream",
     "text": [
      "[[0. 0. 1. 0. 0. 0. 0. 0. 0. 0.]\n",
      " [0. 0. 0. 0. 0. 0. 0. 0. 0. 1.]\n",
      " [0. 0. 0. 0. 0. 0. 1. 0. 0. 0.]\n",
      " [1. 0. 0. 0. 0. 0. 0. 0. 0. 0.]\n",
      " [0. 0. 0. 1. 0. 0. 0. 0. 0. 0.]]\n"
     ]
    },
    {
     "name": "stderr",
     "output_type": "stream",
     "text": [
      "/opt/conda/lib/python3.6/site-packages/sklearn/preprocessing/_encoders.py:415: FutureWarning: The handling of integer data will change in version 0.22. Currently, the categories are determined based on the range [0, max(values)], while in the future they will be determined based on the unique values.\n",
      "If you want the future behaviour and silence this warning, you can specify \"categories='auto'\".\n",
      "In case you used a LabelEncoder before this OneHotEncoder to convert the categories to integers, then you can now use the OneHotEncoder directly.\n",
      "  warnings.warn(msg, FutureWarning)\n"
     ]
    }
   ],
   "source": [
    "from sklearn.preprocessing import OneHotEncoder\n",
    "\n",
    "enc = OneHotEncoder()\n",
    "enc.fit(target)\n",
    "target1 = enc.transform(target).toarray()\n",
    "print(target1[:5])"
   ]
  },
  {
   "cell_type": "code",
   "execution_count": 6,
   "metadata": {},
   "outputs": [],
   "source": [
    "from sklearn.model_selection import train_test_split\n",
    "train_x, val_x, train_y, val_y = train_test_split(train, target1, test_size=0.2, random_state=25)"
   ]
  },
  {
   "cell_type": "code",
   "execution_count": 7,
   "metadata": {},
   "outputs": [
    {
     "name": "stdout",
     "output_type": "stream",
     "text": [
      "Model_0 metric: euclidean, n_neighbors: 1\n",
      "Time:  792.3292174339294\n",
      "Acc:  0.8491666666666666\n",
      "Model_1 metric: euclidean, n_neighbors: 3\n",
      "Time:  816.2158472537994\n",
      "Acc:  0.8450833333333333\n",
      "Model_2 metric: euclidean, n_neighbors: 5\n",
      "Time:  839.3427910804749\n",
      "Acc:  0.8379166666666666\n",
      "Model_3 metric: euclidean, n_neighbors: 7\n",
      "Time:  852.9071629047394\n",
      "Acc:  0.836\n",
      "Model_4 metric: manhattan, n_neighbors: 1\n",
      "Time:  871.3268692493439\n",
      "Acc:  0.8505833333333334\n",
      "Model_5 metric: manhattan, n_neighbors: 3\n",
      "Time:  889.1431596279144\n",
      "Acc:  0.8493333333333334\n",
      "Model_6 metric: manhattan, n_neighbors: 5\n",
      "Time:  891.611380815506\n",
      "Acc:  0.8465\n",
      "Model_7 metric: manhattan, n_neighbors: 7\n",
      "Time:  861.7855062484741\n",
      "Acc:  0.84275\n",
      "Model_8 metric: chebyshev, n_neighbors: 1\n",
      "Time:  354.3624904155731\n",
      "Acc:  0.6374166666666666\n",
      "Model_9 metric: chebyshev, n_neighbors: 3\n",
      "Time:  379.45125555992126\n",
      "Acc:  0.6089166666666667\n",
      "Model_10 metric: chebyshev, n_neighbors: 5\n",
      "Time:  415.39342856407166\n",
      "Acc:  0.5948333333333333\n",
      "Model_11 metric: chebyshev, n_neighbors: 7\n",
      "Time:  420.7694845199585\n",
      "Acc:  0.584\n"
     ]
    }
   ],
   "source": [
    "from time import time\n",
    "from sklearn.neighbors import KNeighborsClassifier\n",
    "from sklearn.metrics import accuracy_score\n",
    "\n",
    "params = {\"n_neighbors\":[1, 3, 5, 7], \"metric\":[\"euclidean\", \"manhattan\", \"chebyshev\"]}\n",
    "acc = {}\n",
    "i=0\n",
    "\n",
    "for m in params[\"metric\"]:\n",
    "    acc[m] = []\n",
    "    for k in params[\"n_neighbors\"]:\n",
    "        print(\"Model_{} metric: {}, n_neighbors: {}\".format(i, m, k))\n",
    "        i += 1\n",
    "        t = time()\n",
    "        knn = KNeighborsClassifier(n_neighbors=k, metric=m)\n",
    "        knn.fit(train_x, train_y)\n",
    "        pred = knn.predict(val_x)\n",
    "        print(\"Time: \", time() - t)\n",
    "        acc[m].append(accuracy_score(val_y, pred))\n",
    "        print(\"Acc: \", acc[m][-1])"
   ]
  },
  {
   "cell_type": "code",
   "execution_count": 8,
   "metadata": {},
   "outputs": [
    {
     "data": {
      "image/png": "[encoded data removed]",
      "text/plain": [
       "<Figure size 432x288 with 1 Axes>"
      ]
     },
     "metadata": {
      "needs_background": "light"
     },
     "output_type": "display_data"
    }
   ],
   "source": [
    "import matplotlib.pyplot as plt\n",
    "\n",
    "c = [\"r\", \"b\", \"g\"]\n",
    "for i, m in enumerate(params[\"metric\"]):\n",
    "    plt.plot(range(1, 9, 2), acc[m], c=c[i])\n",
    "plt.show()"
   ]
  }
 ],
 "metadata": {
  "kernelspec": {
   "display_name": "Python 3",
   "language": "python",
   "name": "python3"
  },
  "language_info": {
   "codemirror_mode": {
    "name": "ipython",
    "version": 3
   },
   "file_extension": ".py",
   "mimetype": "text/x-python",
   "name": "python",
   "nbconvert_exporter": "python",
   "pygments_lexer": "ipython3",
   "version": "3.6.6"
  }
 },
 "nbformat": 4,
 "nbformat_minor": 1
}
